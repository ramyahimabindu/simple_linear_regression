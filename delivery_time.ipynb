{
  "nbformat": 4,
  "nbformat_minor": 0,
  "metadata": {
    "colab": {
      "name": "delivery_time.ipynb",
      "provenance": []
    },
    "kernelspec": {
      "name": "python3",
      "display_name": "Python 3"
    }
  },
  "cells": [
    {
      "cell_type": "markdown",
      "metadata": {
        "id": "HHXg0ZwsUzgC"
      },
      "source": [
        "#importing libraries"
      ]
    },
    {
      "cell_type": "code",
      "metadata": {
        "id": "irMCP3bGPLfj"
      },
      "source": [
        "import numpy as np\n",
        "import matplotlib.pyplot as plt\n",
        "import pandas as pd"
      ],
      "execution_count": 20,
      "outputs": []
    },
    {
      "cell_type": "markdown",
      "metadata": {
        "id": "Md_sdM6BVAqq"
      },
      "source": [
        "#importing dataset"
      ]
    },
    {
      "cell_type": "code",
      "metadata": {
        "id": "zQ6fCuAvVDWZ"
      },
      "source": [
        "dataset=pd.read_csv('/content/delivery_time.csv')"
      ],
      "execution_count": 22,
      "outputs": []
    },
    {
      "cell_type": "code",
      "metadata": {
        "id": "NYx1sOgSVWvt"
      },
      "source": [
        "y = dataset.iloc[:, 1].values\n",
        "X = dataset.iloc[:, :-1].values"
      ],
      "execution_count": 35,
      "outputs": []
    },
    {
      "cell_type": "code",
      "metadata": {
        "id": "_3fnTSO1muMy",
        "outputId": "f59ca2ab-2b5c-4c85-cefc-5b4c3956badd",
        "colab": {
          "base_uri": "https://localhost:8080/",
          "height": 399
        }
      },
      "source": [
        "print (X)"
      ],
      "execution_count": 36,
      "outputs": [
        {
          "output_type": "stream",
          "text": [
            "[[21.  ]\n",
            " [13.5 ]\n",
            " [19.75]\n",
            " [24.  ]\n",
            " [29.  ]\n",
            " [15.35]\n",
            " [19.  ]\n",
            " [ 9.5 ]\n",
            " [17.9 ]\n",
            " [18.75]\n",
            " [19.83]\n",
            " [10.75]\n",
            " [16.68]\n",
            " [11.5 ]\n",
            " [12.03]\n",
            " [14.88]\n",
            " [13.75]\n",
            " [18.11]\n",
            " [ 8.  ]\n",
            " [17.83]\n",
            " [21.5 ]]\n"
          ],
          "name": "stdout"
        }
      ]
    },
    {
      "cell_type": "code",
      "metadata": {
        "id": "7YztG0YKm0zr"
      },
      "source": [
        ""
      ],
      "execution_count": null,
      "outputs": []
    },
    {
      "cell_type": "markdown",
      "metadata": {
        "id": "R2NxtQONVsGA"
      },
      "source": [
        "#splitting the dataset into training set and test set"
      ]
    },
    {
      "cell_type": "code",
      "metadata": {
        "id": "vj6yVIqjVxHm"
      },
      "source": [
        "from sklearn.model_selection import train_test_split\n",
        "X_train, X_test, y_train, y_test = train_test_split(X, y, test_size = 1/3, random_state = 0)\n"
      ],
      "execution_count": 38,
      "outputs": []
    },
    {
      "cell_type": "markdown",
      "metadata": {
        "id": "OSO89f-OV36n"
      },
      "source": [
        "#fitting linear reg into training set"
      ]
    },
    {
      "cell_type": "code",
      "metadata": {
        "id": "ccnXTcwpV_U9",
        "outputId": "beec963c-3cec-4633-b72e-6a1e38d09c27",
        "colab": {
          "base_uri": "https://localhost:8080/",
          "height": 35
        }
      },
      "source": [
        "from sklearn.linear_model import LinearRegression\n",
        "regressor = LinearRegression()\n",
        "regressor.fit(X_train, y_train)"
      ],
      "execution_count": 39,
      "outputs": [
        {
          "output_type": "execute_result",
          "data": {
            "text/plain": [
              "LinearRegression(copy_X=True, fit_intercept=True, n_jobs=None, normalize=False)"
            ]
          },
          "metadata": {
            "tags": []
          },
          "execution_count": 39
        }
      ]
    },
    {
      "cell_type": "markdown",
      "metadata": {
        "id": "DuTyrT22dumk"
      },
      "source": [
        "#predicting test results"
      ]
    },
    {
      "cell_type": "code",
      "metadata": {
        "id": "87_Cv5PPdyLS"
      },
      "source": [
        "y_pred = regressor.predict(X_test)"
      ],
      "execution_count": 40,
      "outputs": []
    },
    {
      "cell_type": "markdown",
      "metadata": {
        "id": "dYJbJ-WLd2M4"
      },
      "source": [
        "#visualizing training set results"
      ]
    },
    {
      "cell_type": "code",
      "metadata": {
        "id": "f5quREZ6d74Q",
        "outputId": "fc0fcaaf-15d6-424f-9804-ca0cc856e5ba",
        "colab": {
          "base_uri": "https://localhost:8080/",
          "height": 283
        }
      },
      "source": [
        "plt.scatter(X_train, y_train, color = 'red')\n",
        "plt.plot(X_train, regressor.predict(X_train), color = 'blue')"
      ],
      "execution_count": 41,
      "outputs": [
        {
          "output_type": "execute_result",
          "data": {
            "text/plain": [
              "[<matplotlib.lines.Line2D at 0x7f7e3ab4f208>]"
            ]
          },
          "metadata": {
            "tags": []
          },
          "execution_count": 41
        },
        {
          "output_type": "display_data",
          "data": {
            "image/png": "[encoded data removed]",
            "text/plain": [
              "<Figure size 432x288 with 1 Axes>"
            ]
          },
          "metadata": {
            "tags": [],
            "needs_background": "light"
          }
        }
      ]
    },
    {
      "cell_type": "markdown",
      "metadata": {
        "id": "MJk9tK9GeCEJ"
      },
      "source": [
        "#visualizing test set results"
      ]
    },
    {
      "cell_type": "code",
      "metadata": {
        "id": "-0vQnueZeJvg",
        "outputId": "da7331e9-aa65-40e2-d0a4-fe3305b4271c",
        "colab": {
          "base_uri": "https://localhost:8080/",
          "height": 295
        }
      },
      "source": [
        "plt.scatter(X_test, y_test, color = 'red')\n",
        "plt.plot(X_train, regressor.predict(X_train), color = 'blue')\n",
        "plt.title('Delivery vs Sorting (Test set)')\n",
        "plt.xlabel(' Est Delivery time')\n",
        "plt.ylabel('Delivery time')\n",
        "plt.show()"
      ],
      "execution_count": 42,
      "outputs": [
        {
          "output_type": "display_data",
          "data": {
            "image/png": "[encoded data removed]",
            "text/plain": [
              "<Figure size 432x288 with 1 Axes>"
            ]
          },
          "metadata": {
            "tags": [],
            "needs_background": "light"
          }
        }
      ]
    }
  ]
}